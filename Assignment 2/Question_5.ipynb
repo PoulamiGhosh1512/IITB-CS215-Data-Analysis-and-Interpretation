{
 "cells": [
  {
   "cell_type": "code",
   "execution_count": 1,
   "id": "a2de02a8",
   "metadata": {
    "id": "a2de02a8"
   },
   "outputs": [],
   "source": [
    "import numpy as np\n",
    "import h5py\n",
    "\n",
    "import matplotlib.pyplot as plt\n",
    "%matplotlib inline\n",
    "\n",
    "from math import *"
   ]
  },
  {
   "cell_type": "code",
   "execution_count": null,
   "id": "292ac441",
   "metadata": {
    "id": "292ac441"
   },
   "outputs": [],
   "source": [
    "arrays = {}\n",
    "f = h5py.File('mnist.mat')\n",
    "for k, v in f.items():\n",
    "    arrays[k] = np.array(v)"
   ]
  },
  {
   "cell_type": "code",
   "execution_count": null,
   "id": "85edc613",
   "metadata": {
    "id": "85edc613",
    "outputId": "5e25d51a-022c-480b-af80-71f2dde5fe2f"
   },
   "outputs": [
    {
     "data": {
      "text/plain": [
       "dict_keys(['digits_test', 'digits_train', 'labels_test', 'labels_train'])"
      ]
     },
     "execution_count": 3,
     "metadata": {},
     "output_type": "execute_result"
    }
   ],
   "source": [
    "arrays.keys()"
   ]
  },
  {
   "cell_type": "code",
   "execution_count": null,
   "id": "e1e8679e",
   "metadata": {
    "id": "e1e8679e",
    "outputId": "73258c10-c4a5-44e6-d3fa-53a7baf78b60"
   },
   "outputs": [
    {
     "data": {
      "text/plain": [
       "60000"
      ]
     },
     "execution_count": 4,
     "metadata": {},
     "output_type": "execute_result"
    }
   ],
   "source": [
    "#Use the entire training set of 60000 examples\n",
    "len(arrays['digits_train'])"
   ]
  },
  {
   "cell_type": "code",
   "execution_count": null,
   "id": "56f27c46",
   "metadata": {
    "id": "56f27c46",
    "outputId": "4bdba38e-f30c-4ccf-aa42-a46160f2977f"
   },
   "outputs": [
    {
     "data": {
      "text/plain": [
       "(28, 28)"
      ]
     },
     "execution_count": 5,
     "metadata": {},
     "output_type": "execute_result"
    }
   ],
   "source": [
    "#Each image is stored as a matrix (28×28) of numbers\n",
    "arrays['digits_train'][0].shape"
   ]
  },
  {
   "cell_type": "code",
   "execution_count": 2,
   "id": "cac03df7",
   "metadata": {
    "colab": {
     "base_uri": "https://localhost:8080/"
    },
    "id": "cac03df7",
    "outputId": "c44abc56-100b-4864-a9fa-2563df7644c6"
   },
   "outputs": [
    {
     "name": "stdout",
     "output_type": "stream",
     "text": [
      "Downloading data from https://storage.googleapis.com/tensorflow/tf-keras-datasets/mnist.npz\n",
      "11490434/11490434 [==============================] - 0s 0us/step\n"
     ]
    }
   ],
   "source": [
    "#You can visualize these images (or matrices) using the functions imagesc() or imshow().\n",
    "from keras.datasets import mnist\n",
    "(digits_train, labels_train), (digits_test, labels_test) = mnist.load_data()"
   ]
  },
  {
   "cell_type": "code",
   "execution_count": 3,
   "id": "5eb1a73b",
   "metadata": {
    "colab": {
     "base_uri": "https://localhost:8080/",
     "height": 300
    },
    "id": "5eb1a73b",
    "outputId": "5651a7ec-1213-4c25-cb03-88be08c0bfd6"
   },
   "outputs": [
    {
     "name": "stdout",
     "output_type": "stream",
     "text": [
      "Label: 8\n"
     ]
    },
    {
     "data": {
      "text/plain": [
       "<matplotlib.image.AxesImage at 0x7efe4ad23d10>"
      ]
     },
     "execution_count": 3,
     "metadata": {},
     "output_type": "execute_result"
    },
    {
     "data": {
      "image/png": "[encoded data removed]",
      "text/plain": [
       "<Figure size 432x288 with 1 Axes>"
      ]
     },
     "metadata": {
      "needs_background": "light"
     },
     "output_type": "display_data"
    }
   ],
   "source": [
    "print('Label:',labels_train[300])\n",
    "plt.gray()\n",
    "plt.imshow(digits_train[300])"
   ]
  },
  {
   "cell_type": "markdown",
   "id": "be7874cd",
   "metadata": {
    "id": "be7874cd"
   },
   "source": [
    "As of now, for each digit, each 28 × 28 pixel image is represented using 28^2 coordinate values in the Euclidean space of dimension 28^2. Suppose you decide to re-represent the images using only 84 coordinates (instead of 28^2 = 784) in a 84-dimensional basis for some 84-dimensional hyperplane within the original Euclidean space, such that the chosen 84-dimensional hyperplane maximizes the total dispersion of the original data (for the chosen digit) within the hyperplane."
   ]
  },
  {
   "cell_type": "markdown",
   "id": "f1bb84db",
   "metadata": {
    "id": "f1bb84db"
   },
   "source": [
    "**a) Write a function to compute those 84 coordinates, for each of the ten digits (0–9).**"
   ]
  },
  {
   "cell_type": "code",
   "execution_count": 4,
   "id": "98fc5d84",
   "metadata": {
    "id": "98fc5d84"
   },
   "outputs": [],
   "source": [
    "#Convert each 28×28 pixel image matrix to a 28^2 × 1 vector by concatenating its columns.\n",
    "reshaped_digits_train = []\n",
    "for i in range(len(digits_train)):\n",
    "    reshaped_digits_train.append(digits_train[i].reshape((28*28,1)))"
   ]
  },
  {
   "cell_type": "code",
   "execution_count": 5,
   "id": "0a60c6e1",
   "metadata": {
    "id": "0a60c6e1"
   },
   "outputs": [],
   "source": [
    "#Training data specific to one digit\n",
    "def digit_dataset(digit,train_data):\n",
    "    sample =  []\n",
    "    for i in range(len(labels_train)):\n",
    "        if labels_train[i]==digit:\n",
    "            sample.append(train_data[i])        \n",
    "    return sample\n",
    "\n",
    "def compute_data_matrix(dataset):\n",
    "  D = []\n",
    "  n = len(dataset)\n",
    "  for p in range(784):\n",
    "    d = []\n",
    "    for i in range(n):\n",
    "      d.append(dataset[i][p][0])\n",
    "    D.append(d)\n",
    "  return D\n",
    "\n",
    "def centering(dataset,mu):\n",
    "  D = []\n",
    "  for i in range(784):\n",
    "    D.append([d-mu[i][0] for d in dataset[i]])\n",
    "  return np.array(D)\n",
    "\n",
    "def compute_mean(dataset):\n",
    "    mean = []\n",
    "    n = len(dataset)\n",
    "    for p in range(784):\n",
    "        s=0\n",
    "        for i in range(n):\n",
    "            s += dataset[i][p][0]\n",
    "        m = s/n\n",
    "        mean.append([m])\n",
    "        mu = np.array(mean)\n",
    "    return mu\n",
    "\n",
    "def compute_covariance(D_centered,n):\n",
    "    CC = (np.matmul(D_centered,np.transpose(D_centered)))/(n-1)\n",
    "    return CC"
   ]
  },
  {
   "cell_type": "code",
   "execution_count": 27,
   "id": "rU3XtTmzplat",
   "metadata": {
    "id": "rU3XtTmzplat"
   },
   "outputs": [],
   "source": [
    "def find_coordinates(eig_val,eig_vec,no_of_components,c_dataset):\n",
    "  # sorting in decreasing order\n",
    "  i = np.argsort(eig_val)[::-1]\n",
    "  eig_vec_desc = eig_vec[:,i]\n",
    "  eig_val_desc = eig_val[i]\n",
    "\n",
    "  # selecting the first 84 eigenvectors after sorting\n",
    "  top84_eig_vec = eig_vec_desc[:, :no_of_components]\n",
    "\n",
    "  coordinates = np.matmul(np.transpose(top84_eig_vec),c_dataset)\n",
    "\n",
    "  return top84_eig_vec,coordinates"
   ]
  },
  {
   "cell_type": "markdown",
   "id": "g354l1uMs9KU",
   "metadata": {
    "id": "g354l1uMs9KU"
   },
   "source": [
    "<b>b) (5 points) Give an algorithm for regenerating / reconstructing the image using those 84 coordinates (and the knowledge of the designed 84-dimensional basis). For each of the ten digits (0–9), pick an image, and show the original and the reconstructed images side by side.</b>"
   ]
  },
  {
   "cell_type": "markdown",
   "id": "NlLiDUXLtXLb",
   "metadata": {
    "id": "NlLiDUXLtXLb"
   },
   "source": [
    "Algorithm:<br>\n",
    "The 84 principal eigenvectors corresponding to the top 84 eigenvalues form the 84 dimensional basis. In this 84-dimensional hyperplane, we have obtained the coordinates for images in the previous subpart of the question.<br>\n",
    "v = 84 principal eigenvectors (direction)<br>\n",
    "c = coordinates(computed in previous subpart)<br>\n",
    "\n",
    "1)We multiply matrices v and c. This is equivalent to taking linear combination of the top 84 eigenvectors in v where the coefficients are determined by columns in C. <br>\n",
    "\n",
    "2)Now we add the mean to the result in step 1.In this resultant matrix,each column is a reconstructed image. <br>"
   ]
  },
  {
   "cell_type": "markdown",
   "id": "ZCGjg3aopZm7",
   "metadata": {
    "id": "ZCGjg3aopZm7"
   },
   "source": [
    "Digit 0:"
   ]
  },
  {
   "cell_type": "code",
   "execution_count": 22,
   "id": "yOQduoVDkLVC",
   "metadata": {
    "id": "yOQduoVDkLVC"
   },
   "outputs": [],
   "source": [
    "#-------Part a--------\n",
    "dataset0 = digit_dataset(0,reshaped_digits_train) #Dataset for a specific digit\n",
    "mu0 = compute_mean(dataset0) #Computing mean\n",
    "re_mu0 = mu0.reshape(28,28) #Reshaping back the mean\n",
    "\n",
    "D0 = compute_data_matrix(dataset0) #Computing the data matrix\n",
    "DC0 = centering(D0,mu0) #Centering the data\n",
    "D0_arr = np.array(D0)\n",
    "\n",
    "n = len(dataset0)\n",
    "CC0 = compute_covariance(DC0,n) #Computing compute_covariance\n",
    "eig_val_0, eig_vec_0 = np.linalg.eigh(CC0) #Eigen decomposition"
   ]
  },
  {
   "cell_type": "code",
   "execution_count": 28,
   "id": "bQQogDtFqtNK",
   "metadata": {
    "id": "bQQogDtFqtNK"
   },
   "outputs": [],
   "source": [
    "top84_eig_vec0,coordinates0 = find_coordinates(eig_val_0,eig_vec_0,84,DC0)"
   ]
  },
  {
   "cell_type": "code",
   "execution_count": 33,
   "id": "ypBZODflrSS-",
   "metadata": {
    "colab": {
     "base_uri": "https://localhost:8080/"
    },
    "id": "ypBZODflrSS-",
    "outputId": "4c45b638-0d91-4a5a-f8ba-3f98c9673391"
   },
   "outputs": [
    {
     "name": "stdout",
     "output_type": "stream",
     "text": [
      "Coordinates for 0:\n",
      " [[ 454.36574673  329.81136667 1244.02148622 ...  936.01525987\n",
      "  1202.41711716  875.24132169]\n",
      " [ 357.71468028  637.61782036 -605.61504516 ...  533.25229798\n",
      "   669.6294669  1003.13968328]\n",
      " [ 286.38489665  209.54335115  -61.77420629 ... -836.0239771\n",
      "  -557.53784095 -654.55945733]\n",
      " ...\n",
      " [ -34.96395489   11.30840406   80.71655508 ...  -36.09717639\n",
      "    24.8987316   153.37652808]\n",
      " [   2.76168505  -17.47496067 -123.55205176 ...  -83.55292491\n",
      "    17.11139456   58.04724202]\n",
      " [  55.05881006   -6.64220228  -60.04242071 ...  -34.60461382\n",
      "   -81.7100165   -12.98524368]]\n"
     ]
    }
   ],
   "source": [
    "print('Coordinates for 0:\\n',coordinates0)"
   ]
  },
  {
   "cell_type": "code",
   "execution_count": 35,
   "id": "jKJBW1wIwH3M",
   "metadata": {
    "id": "jKJBW1wIwH3M"
   },
   "outputs": [],
   "source": [
    "#-------Part b--------\n",
    "lin_com_0 = np.matmul(top84_eig_vec0,coordinates0) #linear combination of top 84 eigenvectors\n",
    "reconstructed_0 = lin_com_0 + mu0 #Adding the mean to the linear combination of eigenvectors, to get the reconstructed image"
   ]
  },
  {
   "cell_type": "code",
   "execution_count": 44,
   "id": "5gES0q4uwhhf",
   "metadata": {
    "colab": {
     "base_uri": "https://localhost:8080/",
     "height": 311
    },
    "id": "5gES0q4uwhhf",
    "outputId": "0ba9647f-4705-4d6c-d005-62e170554f84"
   },
   "outputs": [
    {
     "data": {
      "text/plain": [
       "Text(0.5, 1.0, 'Reconstructed Image')"
      ]
     },
     "execution_count": 44,
     "metadata": {},
     "output_type": "execute_result"
    },
    {
     "data": {
      "image/png": "[encoded data removed]",
      "text/plain": [
       "<Figure size 600x400 with 2 Axes>"
      ]
     },
     "metadata": {
      "needs_background": "light"
     },
     "output_type": "display_data"
    }
   ],
   "source": [
    "plt.figure(dpi=100)\n",
    "plt.subplot(1,2,1)\n",
    "original_img = D0_arr[:,0].reshape(28,28)\n",
    "plt.imshow(original_img)\n",
    "plt.title('Original Image')\n",
    "plt.subplot(1,2,2)\n",
    "reconstructed_img = reconstructed_0[:,0].reshape(28,28)\n",
    "plt.imshow(reconstructed_img)\n",
    "plt.title('Reconstructed Image')"
   ]
  },
  {
   "cell_type": "markdown",
   "id": "OSXheIF0rlEh",
   "metadata": {
    "id": "OSXheIF0rlEh"
   },
   "source": [
    "Digit 1"
   ]
  },
  {
   "cell_type": "code",
   "execution_count": 34,
   "id": "XBb-U5OPrSPu",
   "metadata": {
    "colab": {
     "base_uri": "https://localhost:8080/"
    },
    "id": "XBb-U5OPrSPu",
    "outputId": "726d87e3-0be8-477e-8ae6-d5a2fc78a300"
   },
   "outputs": [
    {
     "name": "stdout",
     "output_type": "stream",
     "text": [
      "Coordinates for 1:\n",
      " [[-1112.55680193   971.64265205   835.4594532  ...  -794.38466464\n",
      "   -837.35162224  -576.23766822]\n",
      " [ -380.4316953   -611.1539768   -522.31206454 ...  -345.30148622\n",
      "   -957.37129197  -529.89251908]\n",
      " [  -32.42288805  -323.29579589   139.55044545 ...   226.90863817\n",
      "    186.66900016   521.57783431]\n",
      " ...\n",
      " [   -9.97244388    12.98361565    30.76377554 ...     4.43178141\n",
      "    -63.9099696      6.897864  ]\n",
      " [    4.05516668    12.88557658    17.68838078 ...    -6.09896523\n",
      "     12.76030962    -4.97461342]\n",
      " [   28.23201703    -4.63229303   -16.46458139 ...   -47.28955072\n",
      "    -39.80073633    56.10531037]]\n"
     ]
    }
   ],
   "source": [
    "#-------Part a--------\n",
    "dataset1 = digit_dataset(1,reshaped_digits_train) #Dataset for specific digit\n",
    "mu1 = compute_mean(dataset1) #Computing mean\n",
    "re_mu1 = mu1.reshape(28,28) #Reshaping back the mean\n",
    "\n",
    "D1 = compute_data_matrix(dataset1) #Computing the data matrix\n",
    "DC1 = centering(D1,mu1) #Centering the data\n",
    "D1_arr = np.array(D1)\n",
    "\n",
    "n = len(dataset1)\n",
    "CC1 = compute_covariance(DC1,n) #Computing compute_covariance\n",
    "eig_val_1, eig_vec_1 = np.linalg.eigh(CC1) #Eigen decomposition\n",
    "\n",
    "top84_eig_vec1,coordinates1 = find_coordinates(eig_val_1,eig_vec_1,84,DC1)\n",
    "\n",
    "print('Coordinates for 1:\\n',coordinates1)"
   ]
  },
  {
   "cell_type": "code",
   "execution_count": 43,
   "id": "GW9RTZ0HrSNT",
   "metadata": {
    "colab": {
     "base_uri": "https://localhost:8080/",
     "height": 311
    },
    "id": "GW9RTZ0HrSNT",
    "outputId": "8d12000a-1e22-48fb-d566-2153add49a70"
   },
   "outputs": [
    {
     "data": {
      "text/plain": [
       "Text(0.5, 1.0, 'Reconstructed Image')"
      ]
     },
     "execution_count": 43,
     "metadata": {},
     "output_type": "execute_result"
    },
    {
     "data": {
      "image/png": "[encoded data removed]",
      "text/plain": [
       "<Figure size 600x400 with 2 Axes>"
      ]
     },
     "metadata": {
      "needs_background": "light"
     },
     "output_type": "display_data"
    }
   ],
   "source": [
    "#-------Part b--------\n",
    "lin_com_1 = np.matmul(top84_eig_vec1,coordinates1) #linear combination of top 84 eigenvectors\n",
    "reconstructed_1 = lin_com_1 + mu1 #Adding the mean to the linear combination of eigenvectors, to get the reconstructed image\n",
    "\n",
    "plt.figure(dpi=100)\n",
    "plt.subplot(1,2,1)\n",
    "original_img = D1_arr[:,0].reshape(28,28)\n",
    "plt.imshow(original_img)\n",
    "plt.title('Original Image')\n",
    "plt.subplot(1,2,2)\n",
    "reconstructed_img = reconstructed_1[:,0].reshape(28,28)\n",
    "plt.imshow(reconstructed_img)\n",
    "plt.title('Reconstructed Image')"
   ]
  },
  {
   "cell_type": "markdown",
   "id": "6VO2BW_2xLd0",
   "metadata": {
    "id": "6VO2BW_2xLd0"
   },
   "source": [
    "Digit 2:"
   ]
  },
  {
   "cell_type": "code",
   "execution_count": 38,
   "id": "c8j0-bQNrSKK",
   "metadata": {
    "colab": {
     "base_uri": "https://localhost:8080/"
    },
    "id": "c8j0-bQNrSKK",
    "outputId": "d27093d3-4486-4529-ab28-e71e586886b6"
   },
   "outputs": [
    {
     "name": "stdout",
     "output_type": "stream",
     "text": [
      "Coordinates for 1:\n",
      " [[ -651.94371296  -147.42654481   322.06548162 ...  -846.04267703\n",
      "  -1315.87039711  -831.60896258]\n",
      " [ -396.20673105   -12.80748308   947.01872892 ...  -559.69783294\n",
      "   -280.38748689  -386.9386877 ]\n",
      " [ -152.6111445    151.22545618  -408.63542183 ...    98.17432916\n",
      "     63.61379335   653.2302977 ]\n",
      " ...\n",
      " [   -4.0957559      7.18933932    -9.52073833 ...   -12.12606771\n",
      "     56.29119618   113.99670819]\n",
      " [   23.98038237    67.98223363    18.67057563 ...   -13.62447486\n",
      "     46.37648105    37.14905935]\n",
      " [  -37.53822031    75.95200539   -38.74256192 ...   -15.46082367\n",
      "    -73.74627017   119.29670588]]\n"
     ]
    }
   ],
   "source": [
    "#-------Part a--------\n",
    "dataset2 = digit_dataset(2,reshaped_digits_train) #Dataset for specific digit\n",
    "mu2 = compute_mean(dataset2) #Computing mean\n",
    "re_mu2 = mu2.reshape(28,28) #Reshaping back the mean\n",
    "\n",
    "D2 = compute_data_matrix(dataset2) #Computing the data matrix\n",
    "DC2 = centering(D2,mu2) #Centering the data\n",
    "D2_arr = np.array(D2)\n",
    "\n",
    "n = len(dataset2)\n",
    "CC2 = compute_covariance(DC2,n) #Computing compute_covariance\n",
    "eig_val_2, eig_vec_2 = np.linalg.eigh(CC2) #Eigen decomposition\n",
    "\n",
    "top84_eig_vec2,coordinates2 = find_coordinates(eig_val_2,eig_vec_2,84,DC2)\n",
    "\n",
    "print('Coordinates for 2:\\n',coordinates2)"
   ]
  },
  {
   "cell_type": "code",
   "execution_count": 42,
   "id": "XAyiuv_crSIK",
   "metadata": {
    "colab": {
     "base_uri": "https://localhost:8080/",
     "height": 311
    },
    "id": "XAyiuv_crSIK",
    "outputId": "737812b7-fde6-4a8c-e78d-27260dac219c"
   },
   "outputs": [
    {
     "data": {
      "text/plain": [
       "Text(0.5, 1.0, 'Reconstructed Image')"
      ]
     },
     "execution_count": 42,
     "metadata": {},
     "output_type": "execute_result"
    },
    {
     "data": {
      "image/png": "[encoded data removed]",
      "text/plain": [
       "<Figure size 600x400 with 2 Axes>"
      ]
     },
     "metadata": {
      "needs_background": "light"
     },
     "output_type": "display_data"
    }
   ],
   "source": [
    "#-------Part b--------\n",
    "lin_com_2 = np.matmul(top84_eig_vec2,coordinates2) #linear combination of top 84 eigenvectors\n",
    "reconstructed_2 = lin_com_2 + mu2 #Adding the mean to the linear combination of eigenvectors, to get the reconstructed image\n",
    "\n",
    "plt.figure(dpi=100)\n",
    "plt.subplot(1,2,1)\n",
    "original_img = D2_arr[:,0].reshape(28,28)\n",
    "plt.imshow(original_img)\n",
    "plt.title('Original Image')\n",
    "plt.subplot(1,2,2)\n",
    "reconstructed_img = reconstructed_2[:,0].reshape(28,28)\n",
    "plt.imshow(reconstructed_img)\n",
    "plt.title('Reconstructed Image')"
   ]
  },
  {
   "cell_type": "markdown",
   "id": "VFUUy0Oez40a",
   "metadata": {
    "id": "VFUUy0Oez40a"
   },
   "source": [
    "Digit 3:"
   ]
  },
  {
   "cell_type": "code",
   "execution_count": 40,
   "id": "xESmi2z_z7Cx",
   "metadata": {
    "colab": {
     "base_uri": "https://localhost:8080/"
    },
    "id": "xESmi2z_z7Cx",
    "outputId": "957e35a6-3b08-404d-9f2c-da83b5a4df86"
   },
   "outputs": [
    {
     "name": "stdout",
     "output_type": "stream",
     "text": [
      "Coordinates for 1:\n",
      " [[  936.71091344   412.68401064 -1061.98257961 ...   508.08020195\n",
      "    712.08041733   963.10966111]\n",
      " [  404.61829742  -104.48187184  -464.9124395  ...   103.72687693\n",
      "   -516.90808674   -46.00062144]\n",
      " [ -894.5910433    282.43943237  -405.2013435  ...  -711.13369461\n",
      "    638.50284228   -67.08585228]\n",
      " ...\n",
      " [  -72.50832845   -32.70707156    54.08653806 ...    61.84228962\n",
      "    -26.89303669    44.61354079]\n",
      " [  -56.20196064   -91.63281517   124.68341781 ...    71.98247892\n",
      "    -44.86338882   -33.3377392 ]\n",
      " [    5.54701943   -41.7664051     34.74153373 ...     2.58755568\n",
      "    -51.10724825    30.98798504]]\n"
     ]
    }
   ],
   "source": [
    "#-------Part a--------\n",
    "dataset3 = digit_dataset(3,reshaped_digits_train) #Dataset for specific digit\n",
    "mu3 = compute_mean(dataset3) #Computing mean\n",
    "re_mu3 = mu3.reshape(28,28) #Reshaping back the mean\n",
    "\n",
    "D3 = compute_data_matrix(dataset3) #Computing the data matrix\n",
    "DC3 = centering(D3,mu3) #Centering the data\n",
    "D3_arr = np.array(D3)\n",
    "\n",
    "n = len(dataset3)\n",
    "CC3 = compute_covariance(DC3,n) #Computing compute_covariance\n",
    "eig_val_3, eig_vec_3 = np.linalg.eigh(CC3) #Eigen decomposition\n",
    "\n",
    "top84_eig_vec3,coordinates3 = find_coordinates(eig_val_3,eig_vec_3,84,DC3)\n",
    "\n",
    "print('Coordinates for 3:\\n',coordinates3)"
   ]
  },
  {
   "cell_type": "code",
   "execution_count": 41,
   "id": "lzNg24NFz4Xm",
   "metadata": {
    "colab": {
     "base_uri": "https://localhost:8080/",
     "height": 311
    },
    "id": "lzNg24NFz4Xm",
    "outputId": "3a93f8c4-0784-4d29-fc88-929e99d97924"
   },
   "outputs": [
    {
     "data": {
      "text/plain": [
       "Text(0.5, 1.0, 'Reconstructed Image')"
      ]
     },
     "execution_count": 41,
     "metadata": {},
     "output_type": "execute_result"
    },
    {
     "data": {
      "image/png": "[encoded data removed]",
      "text/plain": [
       "<Figure size 600x400 with 2 Axes>"
      ]
     },
     "metadata": {
      "needs_background": "light"
     },
     "output_type": "display_data"
    }
   ],
   "source": [
    "#-------Part b--------\n",
    "lin_com_3 = np.matmul(top84_eig_vec3,coordinates3) #linear combination of top 84 eigenvectors\n",
    "reconstructed_3 = lin_com_3 + mu3 #Adding the mean to the linear combination of eigenvectors, to get the reconstructed image\n",
    "\n",
    "plt.figure(dpi=100)\n",
    "plt.subplot(1,2,1)\n",
    "original_img = D3_arr[:,0].reshape(28,28)\n",
    "plt.imshow(original_img)\n",
    "plt.title('Original Image')\n",
    "plt.subplot(1,2,2)\n",
    "reconstructed_img = reconstructed_3[:,0].reshape(28,28)\n",
    "plt.imshow(reconstructed_img)\n",
    "plt.title('Reconstructed Image')"
   ]
  },
  {
   "cell_type": "markdown",
   "id": "-6TCqAfN06pR",
   "metadata": {
    "id": "-6TCqAfN06pR"
   },
   "source": [
    "Digit 4:"
   ]
  },
  {
   "cell_type": "code",
   "execution_count": 45,
   "id": "Vkarka2-055b",
   "metadata": {
    "colab": {
     "base_uri": "https://localhost:8080/"
    },
    "id": "Vkarka2-055b",
    "outputId": "f4b9b400-4985-47d8-c60a-6780232f3a29"
   },
   "outputs": [
    {
     "name": "stdout",
     "output_type": "stream",
     "text": [
      "Coordinates for 1:\n",
      " [[-547.01649279  616.79769948 -996.1980674  ...  686.9318474\n",
      "   465.3971596   446.35568624]\n",
      " [-206.94067245 -551.39137795  -42.83240906 ... -455.14770048\n",
      "  -601.09327561  146.57558358]\n",
      " [ 496.26132713  461.03788937  421.75334879 ...  272.17484636\n",
      "   756.82158854  668.83177053]\n",
      " ...\n",
      " [  66.81278907  -15.32652826   12.824897   ...   27.73584165\n",
      "   -29.58075646  -73.4155814 ]\n",
      " [  91.41906851    6.94366896   48.29486634 ...   52.57714836\n",
      "    -5.93055773  -26.40796551]\n",
      " [-111.64786929  -51.48034337  -13.18077501 ...  -27.1743651\n",
      "    10.0577521    36.27875486]]\n"
     ]
    }
   ],
   "source": [
    "#-------Part a--------\n",
    "dataset4 = digit_dataset(4,reshaped_digits_train) #Dataset for specific digit\n",
    "mu4 = compute_mean(dataset4) #Computing mean\n",
    "re_mu4 = mu4.reshape(28,28) #Reshaping back the mean\n",
    "\n",
    "D4 = compute_data_matrix(dataset4) #Computing the data matrix\n",
    "DC4 = centering(D4,mu4) #Centering the data\n",
    "D4_arr = np.array(D4)\n",
    "\n",
    "n = len(dataset4)\n",
    "CC4 = compute_covariance(DC4,n) #Computing compute_covariance\n",
    "eig_val_4, eig_vec_4 = np.linalg.eigh(CC4) #Eigen decomposition\n",
    "\n",
    "top84_eig_vec4,coordinates4 = find_coordinates(eig_val_4,eig_vec_4,84,DC4)\n",
    "\n",
    "print('Coordinates for 4:\\n',coordinates4)"
   ]
  },
  {
   "cell_type": "code",
   "execution_count": 47,
   "id": "nJbkMU861URM",
   "metadata": {
    "colab": {
     "base_uri": "https://localhost:8080/",
     "height": 311
    },
    "id": "nJbkMU861URM",
    "outputId": "094d898c-69db-488a-9f2b-4d42b24ff415"
   },
   "outputs": [
    {
     "data": {
      "text/plain": [
       "Text(0.5, 1.0, 'Reconstructed Image')"
      ]
     },
     "execution_count": 47,
     "metadata": {},
     "output_type": "execute_result"
    },
    {
     "data": {
      "image/png": "[encoded data removed]",
      "text/plain": [
       "<Figure size 600x400 with 2 Axes>"
      ]
     },
     "metadata": {
      "needs_background": "light"
     },
     "output_type": "display_data"
    }
   ],
   "source": [
    "#-------Part b--------\n",
    "lin_com_4 = np.matmul(top84_eig_vec4,coordinates4) #linear combination of top 84 eigenvectors\n",
    "reconstructed_4 = lin_com_4 + mu4 #Adding the mean to the linear combination of eigenvectors, to get the reconstructed image\n",
    "\n",
    "plt.figure(dpi=100)\n",
    "plt.subplot(1,2,1)\n",
    "original_img = D4_arr[:,1].reshape(28,28)\n",
    "plt.imshow(original_img)\n",
    "plt.title('Original Image')\n",
    "plt.subplot(1,2,2)\n",
    "reconstructed_img = reconstructed_4[:,1].reshape(28,28)\n",
    "plt.imshow(reconstructed_img)\n",
    "plt.title('Reconstructed Image')"
   ]
  },
  {
   "cell_type": "markdown",
   "id": "tifqTzpR1ljt",
   "metadata": {
    "id": "tifqTzpR1ljt"
   },
   "source": [
    "Digit 5:"
   ]
  },
  {
   "cell_type": "code",
   "execution_count": 48,
   "id": "ibgj8Nim1o2l",
   "metadata": {
    "colab": {
     "base_uri": "https://localhost:8080/"
    },
    "id": "ibgj8Nim1o2l",
    "outputId": "89d80af1-d8da-44da-d378-45a86dc2e276"
   },
   "outputs": [
    {
     "name": "stdout",
     "output_type": "stream",
     "text": [
      "Coordinates for 1:\n",
      " [[-181.65047485 1057.19551883  976.89071977 ...  482.49135978\n",
      "   667.15686391  -72.79192322]\n",
      " [ 538.97881936 -921.08929102 -401.08795317 ...  -95.4378267\n",
      "  -244.22314747  583.31063966]\n",
      " [-486.373132    264.72616888  -22.58305695 ... -398.61461262\n",
      "   -91.35183836  198.63365085]\n",
      " ...\n",
      " [  45.82947436   21.43196096   18.64776995 ...   21.64778868\n",
      "    95.65466268 -126.32154251]\n",
      " [  10.20014752  -18.26743806 -115.33046157 ...   42.42766925\n",
      "   101.2386494    99.41736793]\n",
      " [-147.19288134  -14.22084501   26.73527239 ...   33.29085768\n",
      "   101.85852716 -111.71174384]]\n"
     ]
    }
   ],
   "source": [
    "#-------Part a--------\n",
    "dataset5 = digit_dataset(5,reshaped_digits_train) #Dataset for specific digit\n",
    "mu5 = compute_mean(dataset5) #Computing mean\n",
    "re_mu5 = mu5.reshape(28,28) #Reshaping back the mean\n",
    "\n",
    "D5 = compute_data_matrix(dataset5) #Computing the data matrix\n",
    "DC5 = centering(D5,mu5) #Centering the data\n",
    "D5_arr = np.array(D5)\n",
    "\n",
    "n = len(dataset5)\n",
    "CC5 = compute_covariance(DC5,n) #Computing compute_covariance\n",
    "eig_val_5, eig_vec_5 = np.linalg.eigh(CC5) #Eigen decomposition\n",
    "\n",
    "top84_eig_vec5,coordinates5 = find_coordinates(eig_val_5,eig_vec_5,84,DC5)\n",
    "\n",
    "print('Coordinates for 5:\\n',coordinates5)"
   ]
  },
  {
   "cell_type": "code",
   "execution_count": 50,
   "id": "dxN_QUQD1obg",
   "metadata": {
    "colab": {
     "base_uri": "https://localhost:8080/",
     "height": 311
    },
    "id": "dxN_QUQD1obg",
    "outputId": "61409f36-bc7b-4a3c-a214-e98b354ca37f"
   },
   "outputs": [
    {
     "data": {
      "text/plain": [
       "Text(0.5, 1.0, 'Reconstructed Image')"
      ]
     },
     "execution_count": 50,
     "metadata": {},
     "output_type": "execute_result"
    },
    {
     "data": {
      "image/png": "[encoded data removed]",
      "text/plain": [
       "<Figure size 600x400 with 2 Axes>"
      ]
     },
     "metadata": {
      "needs_background": "light"
     },
     "output_type": "display_data"
    }
   ],
   "source": [
    "#-------Part b--------\n",
    "lin_com_5 = np.matmul(top84_eig_vec5,coordinates5) #linear combination of top 84 eigenvectors\n",
    "reconstructed_5 = lin_com_5 + mu5 #Adding the mean to the linear combination of eigenvectors, to get the reconstructed image\n",
    "\n",
    "plt.figure(dpi=100)\n",
    "plt.subplot(1,2,1)\n",
    "original_img = D5_arr[:,0].reshape(28,28)\n",
    "plt.imshow(original_img)\n",
    "plt.title('Original Image')\n",
    "plt.subplot(1,2,2)\n",
    "reconstructed_img = reconstructed_5[:,0].reshape(28,28)\n",
    "plt.imshow(reconstructed_img)\n",
    "plt.title('Reconstructed Image')"
   ]
  },
  {
   "cell_type": "markdown",
   "id": "Mn-LSsjI2NgK",
   "metadata": {
    "id": "Mn-LSsjI2NgK"
   },
   "source": [
    "Digit 6:"
   ]
  },
  {
   "cell_type": "code",
   "execution_count": 51,
   "id": "Hr_fkZmB2P6Z",
   "metadata": {
    "colab": {
     "base_uri": "https://localhost:8080/"
    },
    "id": "Hr_fkZmB2P6Z",
    "outputId": "29b0fb55-1e21-4513-bf3b-4d1b089c4ce7"
   },
   "outputs": [
    {
     "name": "stdout",
     "output_type": "stream",
     "text": [
      "Coordinates for 1:\n",
      " [[-149.41432742  504.18820552   53.11848658 ...  317.38622347\n",
      "   556.63759721  367.63840278]\n",
      " [ 659.00191625 -268.02984863   77.90309182 ... -361.06351163\n",
      "   -17.61791643 -160.56378227]\n",
      " [-173.4970301   580.98011149  737.80950772 ... -716.67669713\n",
      "  -767.7233533  -562.82080662]\n",
      " ...\n",
      " [ -37.66486426   17.84932656   18.42850825 ...  -53.51289298\n",
      "   -96.40691582 -122.92957369]\n",
      " [ -38.11842275    7.15544516  101.40965382 ...  -54.31943604\n",
      "  -112.63057459   36.8759815 ]\n",
      " [ -50.98254647   10.03711156  -20.55519598 ...   33.88150209\n",
      "   -72.5935723    34.84012551]]\n"
     ]
    }
   ],
   "source": [
    "#-------Part a--------\n",
    "dataset6 = digit_dataset(6,reshaped_digits_train) #Dataset for specific digit\n",
    "mu6 = compute_mean(dataset6) #Computing mean\n",
    "re_mu6 = mu6.reshape(28,28) #Reshaping back the mean\n",
    "\n",
    "D6 = compute_data_matrix(dataset6) #Computing the data matrix\n",
    "DC6 = centering(D6,mu6) #Centering the data\n",
    "D6_arr = np.array(D6)\n",
    "\n",
    "n = len(dataset6)\n",
    "CC6 = compute_covariance(DC6,n) #Computing compute_covariance\n",
    "eig_val_6, eig_vec_6 = np.linalg.eigh(CC6) #Eigen decomposition\n",
    "\n",
    "top84_eig_vec6,coordinates6 = find_coordinates(eig_val_6,eig_vec_6,84,DC6)\n",
    "\n",
    "print('Coordinates for 6:\\n',coordinates6)"
   ]
  },
  {
   "cell_type": "code",
   "execution_count": 52,
   "id": "kzNHMmui2PNZ",
   "metadata": {
    "colab": {
     "base_uri": "https://localhost:8080/",
     "height": 311
    },
    "id": "kzNHMmui2PNZ",
    "outputId": "b2e4a63a-3e3e-4fd3-c016-82cad9de36c5"
   },
   "outputs": [
    {
     "data": {
      "text/plain": [
       "Text(0.5, 1.0, 'Reconstructed Image')"
      ]
     },
     "execution_count": 52,
     "metadata": {},
     "output_type": "execute_result"
    },
    {
     "data": {
      "image/png": "[encoded data removed]",
      "text/plain": [
       "<Figure size 600x400 with 2 Axes>"
      ]
     },
     "metadata": {
      "needs_background": "light"
     },
     "output_type": "display_data"
    }
   ],
   "source": [
    "#-------Part b--------\n",
    "lin_com_6 = np.matmul(top84_eig_vec6,coordinates6) #linear combination of top 84 eigenvectors\n",
    "reconstructed_6 = lin_com_6 + mu6 #Adding the mean to the linear combination of eigenvectors, to get the reconstructed image\n",
    "\n",
    "plt.figure(dpi=100)\n",
    "plt.subplot(1,2,1)\n",
    "original_img = D6_arr[:,1].reshape(28,28)\n",
    "plt.imshow(original_img)\n",
    "plt.title('Original Image')\n",
    "plt.subplot(1,2,2)\n",
    "reconstructed_img = reconstructed_6[:,1].reshape(28,28)\n",
    "plt.imshow(reconstructed_img)\n",
    "plt.title('Reconstructed Image')"
   ]
  },
  {
   "cell_type": "markdown",
   "id": "ag3xyaAG2X9R",
   "metadata": {
    "id": "ag3xyaAG2X9R"
   },
   "source": [
    "Digit 7:"
   ]
  },
  {
   "cell_type": "code",
   "execution_count": 53,
   "id": "35YaIs2F2as3",
   "metadata": {
    "colab": {
     "base_uri": "https://localhost:8080/"
    },
    "id": "35YaIs2F2as3",
    "outputId": "7c8a68d6-28de-43a1-c494-8d93764c148b"
   },
   "outputs": [
    {
     "name": "stdout",
     "output_type": "stream",
     "text": [
      "Coordinates for 7:\n",
      " [[-602.63295225 -344.5047332   184.22375484 ... -728.51959474\n",
      "  -728.65260395 -240.47412065]\n",
      " [-896.05407054  -28.27723896  813.40192494 ... -429.82771487\n",
      "   182.67074173 -837.68155584]\n",
      " [ 139.38578923  928.23374036  141.44988423 ...  536.04894279\n",
      "    52.03375064  887.60971671]\n",
      " ...\n",
      " [ -23.87034667   40.84435106  -54.5562487  ...  -48.07113661\n",
      "    36.45292448   28.2447018 ]\n",
      " [  20.45883817   55.53291461   42.26900014 ...   -1.71658725\n",
      "     7.84684272   48.73026576]\n",
      " [  81.06438265   50.48868599  -43.20363816 ...  -44.99569844\n",
      "    48.94255979   12.93421609]]\n"
     ]
    }
   ],
   "source": [
    "#-------Part a--------\n",
    "dataset7 = digit_dataset(7,reshaped_digits_train) #Dataset for specific digit\n",
    "mu7 = compute_mean(dataset7) #Computing mean\n",
    "re_mu7 = mu7.reshape(28,28) #Reshaping back the mean\n",
    "\n",
    "D7 = compute_data_matrix(dataset7) #Computing the data matrix\n",
    "DC7 = centering(D7,mu7) #Centering the data\n",
    "D7_arr = np.array(D7)\n",
    "\n",
    "n = len(dataset7)\n",
    "CC7 = compute_covariance(DC7,n) #Computing compute_covariance\n",
    "eig_val_7, eig_vec_7 = np.linalg.eigh(CC7) #Eigen decomposition\n",
    "\n",
    "top84_eig_vec7,coordinates7 = find_coordinates(eig_val_7,eig_vec_7,84,DC7)\n",
    "\n",
    "print('Coordinates for 7:\\n',coordinates7)"
   ]
  },
  {
   "cell_type": "code",
   "execution_count": 54,
   "id": "Kt_3RNEK2af_",
   "metadata": {
    "colab": {
     "base_uri": "https://localhost:8080/",
     "height": 311
    },
    "id": "Kt_3RNEK2af_",
    "outputId": "977347b9-d773-44b7-9a74-60cf24716a87"
   },
   "outputs": [
    {
     "data": {
      "text/plain": [
       "Text(0.5, 1.0, 'Reconstructed Image')"
      ]
     },
     "execution_count": 54,
     "metadata": {},
     "output_type": "execute_result"
    },
    {
     "data": {
      "image/png": "[encoded data removed]",
      "text/plain": [
       "<Figure size 600x400 with 2 Axes>"
      ]
     },
     "metadata": {
      "needs_background": "light"
     },
     "output_type": "display_data"
    }
   ],
   "source": [
    "#-------Part b--------\n",
    "lin_com_7 = np.matmul(top84_eig_vec7,coordinates7) #linear combination of top 84 eigenvectors\n",
    "reconstructed_7 = lin_com_7 + mu7 #Adding the mean to the linear combination of eigenvectors, to get the reconstructed image\n",
    "\n",
    "plt.figure(dpi=100)\n",
    "plt.subplot(1,2,1)\n",
    "original_img = D7_arr[:,1].reshape(28,28)\n",
    "plt.imshow(original_img)\n",
    "plt.title('Original Image')\n",
    "plt.subplot(1,2,2)\n",
    "reconstructed_img = reconstructed_7[:,1].reshape(28,28)\n",
    "plt.imshow(reconstructed_img)\n",
    "plt.title('Reconstructed Image')"
   ]
  },
  {
   "cell_type": "markdown",
   "id": "3NloW4Il2jHC",
   "metadata": {
    "id": "3NloW4Il2jHC"
   },
   "source": [
    "Digit 8:"
   ]
  },
  {
   "cell_type": "code",
   "execution_count": 55,
   "id": "jA5bSaRm2la3",
   "metadata": {
    "colab": {
     "base_uri": "https://localhost:8080/"
    },
    "id": "jA5bSaRm2la3",
    "outputId": "5fc18896-231c-4133-bbc8-2900cd4286f0"
   },
   "outputs": [
    {
     "name": "stdout",
     "output_type": "stream",
     "text": [
      "Coordinates for 8:\n",
      " [[ 8.56543522e+02  1.05895227e+03  3.91856081e+02 ...  7.77405418e+02\n",
      "   5.36087576e+02  6.61888626e+02]\n",
      " [ 2.29289149e+02  5.09383916e-01  2.15200992e+02 ...  1.47409727e+02\n",
      "   1.85018333e+02  2.45656033e+02]\n",
      " [-4.70950945e+01 -5.80657117e+02  6.34788398e+02 ... -3.11002290e+02\n",
      "   6.94517866e+01 -7.27734242e+02]\n",
      " ...\n",
      " [ 1.14331381e+02 -2.98506547e+01 -9.54927824e+00 ...  3.43639451e+01\n",
      "  -5.93351576e+01  7.40467542e+01]\n",
      " [ 6.93906058e+01  1.20298672e+01 -3.76962678e+00 ...  1.45591304e+01\n",
      "  -7.31799648e+01  1.82747135e+00]\n",
      " [-1.34853567e+01 -2.45718248e+01 -1.89223550e+01 ...  8.72365270e+01\n",
      "   4.99155441e+00  1.01318025e+01]]\n"
     ]
    }
   ],
   "source": [
    "#-------Part a--------\n",
    "dataset8 = digit_dataset(8,reshaped_digits_train) #Dataset for specific digit\n",
    "mu8 = compute_mean(dataset8) #Computing mean\n",
    "re_mu8 = mu8.reshape(28,28) #Reshaping back the mean\n",
    "\n",
    "D8 = compute_data_matrix(dataset8) #Computing the data matrix\n",
    "DC8 = centering(D8,mu8) #Centering the data\n",
    "D8_arr = np.array(D8)\n",
    "\n",
    "n = len(dataset8)\n",
    "CC8 = compute_covariance(DC8,n) #Computing compute_covariance\n",
    "eig_val_8, eig_vec_8 = np.linalg.eigh(CC8) #Eigen decomposition\n",
    "\n",
    "top84_eig_vec8,coordinates8 = find_coordinates(eig_val_8,eig_vec_8,84,DC8)\n",
    "\n",
    "print('Coordinates for 8:\\n',coordinates8)"
   ]
  },
  {
   "cell_type": "code",
   "execution_count": 56,
   "id": "nSa3Tt9y2lJy",
   "metadata": {
    "colab": {
     "base_uri": "https://localhost:8080/",
     "height": 311
    },
    "id": "nSa3Tt9y2lJy",
    "outputId": "ecab0df1-32c1-4a8a-a584-7eea29841915"
   },
   "outputs": [
    {
     "data": {
      "text/plain": [
       "Text(0.5, 1.0, 'Reconstructed Image')"
      ]
     },
     "execution_count": 56,
     "metadata": {},
     "output_type": "execute_result"
    },
    {
     "data": {
      "image/png": "[encoded data removed]",
      "text/plain": [
       "<Figure size 600x400 with 2 Axes>"
      ]
     },
     "metadata": {
      "needs_background": "light"
     },
     "output_type": "display_data"
    }
   ],
   "source": [
    "#-------Part b--------\n",
    "lin_com_8 = np.matmul(top84_eig_vec8,coordinates8) #linear combination of top 84 eigenvectors\n",
    "reconstructed_8 = lin_com_8 + mu8 #Adding the mean to the linear combination of eigenvectors, to get the reconstructed image\n",
    "\n",
    "plt.figure(dpi=100)\n",
    "plt.subplot(1,2,1)\n",
    "original_img = D8_arr[:,1].reshape(28,28)\n",
    "plt.imshow(original_img)\n",
    "plt.title('Original Image')\n",
    "plt.subplot(1,2,2)\n",
    "reconstructed_img = reconstructed_8[:,1].reshape(28,28)\n",
    "plt.imshow(reconstructed_img)\n",
    "plt.title('Reconstructed Image')"
   ]
  },
  {
   "cell_type": "markdown",
   "id": "YBGNSHE92sdd",
   "metadata": {
    "id": "YBGNSHE92sdd"
   },
   "source": [
    "Digit 9:"
   ]
  },
  {
   "cell_type": "code",
   "execution_count": 57,
   "id": "vQGrVOZe2u5k",
   "metadata": {
    "colab": {
     "base_uri": "https://localhost:8080/"
    },
    "id": "vQGrVOZe2u5k",
    "outputId": "19128ccb-09e6-48c7-801c-3b699a2b54b8"
   },
   "outputs": [
    {
     "name": "stdout",
     "output_type": "stream",
     "text": [
      "Coordinates for 9:\n",
      " [[-181.65047485 1057.19551883  976.89071977 ...  482.49135978\n",
      "   667.15686391  -72.79192322]\n",
      " [ 538.97881936 -921.08929102 -401.08795317 ...  -95.4378267\n",
      "  -244.22314747  583.31063966]\n",
      " [-486.373132    264.72616888  -22.58305695 ... -398.61461262\n",
      "   -91.35183836  198.63365085]\n",
      " ...\n",
      " [  45.82947436   21.43196096   18.64776995 ...   21.64778868\n",
      "    95.65466268 -126.32154251]\n",
      " [  10.20014752  -18.26743806 -115.33046157 ...   42.42766925\n",
      "   101.2386494    99.41736793]\n",
      " [-147.19288134  -14.22084501   26.73527239 ...   33.29085768\n",
      "   101.85852716 -111.71174384]]\n"
     ]
    }
   ],
   "source": [
    "#-------Part a--------\n",
    "dataset9 = digit_dataset(9,reshaped_digits_train) #Dataset for specific digit\n",
    "mu9 = compute_mean(dataset9) #Computing mean\n",
    "re_mu9 = mu9.reshape(28,28) #Reshaping back the mean\n",
    "\n",
    "D9 = compute_data_matrix(dataset9) #Computing the data matrix\n",
    "DC9 = centering(D9,mu9) #Centering the data\n",
    "D9_arr = np.array(D9)\n",
    "\n",
    "n = len(dataset9)\n",
    "CC9 = compute_covariance(DC9,n) #Computing compute_covariance\n",
    "eig_val_9, eig_vec_9 = np.linalg.eigh(CC9) #Eigen decomposition\n",
    "\n",
    "top84_eig_vec9,coordinates9 = find_coordinates(eig_val_9,eig_vec_9,84,DC9)\n",
    "\n",
    "print('Coordinates for 9:\\n',coordinates5)"
   ]
  },
  {
   "cell_type": "code",
   "execution_count": 58,
   "id": "yra1U1xw2uwC",
   "metadata": {
    "colab": {
     "base_uri": "https://localhost:8080/",
     "height": 311
    },
    "id": "yra1U1xw2uwC",
    "outputId": "493cc140-e135-4c23-be4f-2cca99537538"
   },
   "outputs": [
    {
     "data": {
      "text/plain": [
       "Text(0.5, 1.0, 'Reconstructed Image')"
      ]
     },
     "execution_count": 58,
     "metadata": {},
     "output_type": "execute_result"
    },
    {
     "data": {
      "image/png": "[encoded data removed]",
      "text/plain": [
       "<Figure size 600x400 with 2 Axes>"
      ]
     },
     "metadata": {
      "needs_background": "light"
     },
     "output_type": "display_data"
    }
   ],
   "source": [
    "#-------Part b--------\n",
    "lin_com_9 = np.matmul(top84_eig_vec9,coordinates9) #linear combination of top 84 eigenvectors\n",
    "reconstructed_9 = lin_com_9 + mu9 #Adding the mean to the linear combination of eigenvectors, to get the reconstructed image\n",
    "\n",
    "plt.figure(dpi=100)\n",
    "plt.subplot(1,2,1)\n",
    "original_img = D9_arr[:,1].reshape(28,28)\n",
    "plt.imshow(original_img)\n",
    "plt.title('Original Image')\n",
    "plt.subplot(1,2,2)\n",
    "reconstructed_img = reconstructed_9[:,1].reshape(28,28)\n",
    "plt.imshow(reconstructed_img)\n",
    "plt.title('Reconstructed Image')"
   ]
  }
 ],
 "metadata": {
  "colab": {
   "collapsed_sections": [],
   "provenance": []
  },
  "kernelspec": {
   "display_name": "Python 3 (ipykernel)",
   "language": "python",
   "name": "python3"
  },
  "language_info": {
   "codemirror_mode": {
    "name": "ipython",
    "version": 3
   },
   "file_extension": ".py",
   "mimetype": "text/x-python",
   "name": "python",
   "nbconvert_exporter": "python",
   "pygments_lexer": "ipython3",
   "version": "3.9.12"
  }
 },
 "nbformat": 4,
 "nbformat_minor": 5
}
